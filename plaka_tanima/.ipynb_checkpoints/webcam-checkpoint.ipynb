{
 "cells": [
  {
   "cell_type": "code",
   "execution_count": 2,
   "id": "7d17fd88",
   "metadata": {},
   "outputs": [
    {
     "ename": "error",
     "evalue": "OpenCV(4.7.0) D:\\a\\opencv-python\\opencv-python\\opencv\\modules\\imgproc\\src\\drawing.cpp:2605: error: (-215:Assertion failed) reader.ptr != NULL in function 'cvDrawContours'\n",
     "output_type": "error",
     "traceback": [
      "\u001b[1;31m---------------------------------------------------------------------------\u001b[0m",
      "\u001b[1;31merror\u001b[0m                                     Traceback (most recent call last)",
      "\u001b[1;32m~\\AppData\\Local\\Temp\\ipykernel_28920\\2273897815.py\u001b[0m in \u001b[0;36m<module>\u001b[1;34m\u001b[0m\n\u001b[0;32m     50\u001b[0m \u001b[1;33m\u001b[0m\u001b[0m\n\u001b[0;32m     51\u001b[0m     \u001b[1;31m#Yapıştırılacak yer, koordinatlar, çizim modu, renk(beyaz), kalınlık\u001b[0m\u001b[1;33m\u001b[0m\u001b[1;33m\u001b[0m\u001b[0m\n\u001b[1;32m---> 52\u001b[1;33m     \u001b[0mnew_img\u001b[0m \u001b[1;33m=\u001b[0m \u001b[0mcv2\u001b[0m\u001b[1;33m.\u001b[0m\u001b[0mdrawContours\u001b[0m\u001b[1;33m(\u001b[0m\u001b[0mmask\u001b[0m\u001b[1;33m,\u001b[0m \u001b[1;33m[\u001b[0m\u001b[0mscreen\u001b[0m\u001b[1;33m]\u001b[0m\u001b[1;33m,\u001b[0m \u001b[1;36m0\u001b[0m\u001b[1;33m,\u001b[0m \u001b[1;33m(\u001b[0m\u001b[1;36m255\u001b[0m\u001b[1;33m,\u001b[0m \u001b[1;36m255\u001b[0m\u001b[1;33m,\u001b[0m \u001b[1;36m255\u001b[0m\u001b[1;33m)\u001b[0m\u001b[1;33m,\u001b[0m \u001b[1;33m-\u001b[0m\u001b[1;36m1\u001b[0m\u001b[1;33m)\u001b[0m\u001b[1;33m\u001b[0m\u001b[1;33m\u001b[0m\u001b[0m\n\u001b[0m\u001b[0;32m     53\u001b[0m \u001b[1;33m\u001b[0m\u001b[0m\n\u001b[0;32m     54\u001b[0m     \u001b[1;31m#Plaka alanına yazıyı yapıştırıyoruz.\u001b[0m\u001b[1;33m\u001b[0m\u001b[1;33m\u001b[0m\u001b[0m\n",
      "\u001b[1;31merror\u001b[0m: OpenCV(4.7.0) D:\\a\\opencv-python\\opencv-python\\opencv\\modules\\imgproc\\src\\drawing.cpp:2605: error: (-215:Assertion failed) reader.ptr != NULL in function 'cvDrawContours'\n"
     ]
    }
   ],
   "source": [
    "import cv2\n",
    "import numpy as np\n",
    "import pytesseract\n",
    "import imutils\n",
    "\n",
    "vid_cam = cv2.VideoCapture(0)\n",
    "\n",
    "while(True):\n",
    "    ret, kamera = vid_cam.read()    #vid_cam den okunan image kameraya atandı\n",
    "    goruntu = kamera\n",
    "\n",
    "    #Alınan görüntü griye çevriliyor\n",
    "    gray = cv2.cvtColor(kamera, cv2.COLOR_BGR2GRAY)\n",
    "\n",
    "    #Filtre ile gürültüler azaltılıyor.\n",
    "    filt = cv2.bilateralFilter(gray, 6, 250, 250)\n",
    "\n",
    "    #Kenarlar tespit ediliyor.\n",
    "    kenar = cv2.Canny(filt, 30, 200)\n",
    "\n",
    "    \"\"\"\n",
    "    Şekil analizinde kullanmak için nokta birleşimi yapılıyor (aynı renk, yoğunluk vb. özelliklere sahip aralıksız noktalar)\n",
    "    RETR_TREE -> mod değeri olarak da geçer (kontur alma modu)\n",
    "    CHAIN_APPROX_SIMPLE -> Kontor yaklaşım metodu (basit yaklaşım sergiler) (Asıl görevi konturdaki gereksiz yerleri yok etmek)\n",
    "    \"\"\"\n",
    "    contours = cv2.findContours(kenar, cv2.RETR_TREE , cv2.CHAIN_APPROX_SIMPLE)\n",
    "\n",
    "    #Uygun konturlar yakalanıyor.\n",
    "    cnts = imutils.grab_contours(contours)\n",
    "\n",
    "    cnts = sorted(cnts, key = cv2.contourArea, reverse = True)[:10]\n",
    "\n",
    "    # Koordinatları tutacak\n",
    "    screen = None\n",
    "\n",
    "    for c in cnts:\n",
    "        # Doğruluk değeri verilen sayı ve yay uzunluğu çarpılarak elde edilir.\n",
    "        epsilon = 0.018 * cv2.arcLength(c, True)\n",
    "        # Konturlar yaklaştırılıyor.\n",
    "        yaklasim = cv2.approxPolyDP(c, epsilon, True)\n",
    "\n",
    "        # 4 köşe tespit edilirse (4 değer saklı haldeyse):\n",
    "        if len(yaklasim == 4):\n",
    "            screen = yaklasim\n",
    "            break\n",
    "\n",
    "    mask = np.zeros(gray.shape, np.uint8)\n",
    "\n",
    "    #Tespit edilen bölge harici beyaz yapılıp yeni bölge ayrıştırılacak\n",
    "    \n",
    "    #Yapıştırılacak yer, koordinatlar, çizim modu, renk(beyaz), kalınlık\n",
    "    new_img = cv2.drawContours(mask, [screen], 0, (255, 255, 255), -1)\n",
    "\n",
    "    #Plaka alanına yazıyı yapıştırıyoruz.\n",
    "    new_img = cv2.bitwise_and(kamera, kamera, mask = mask)\n",
    "\n",
    "    #Beyaz olan yerlerin koordinatları kaydediliyor.\n",
    "    (x, y) = np.where(mask == 255)\n",
    "\n",
    "    (topx, topy) = (np.min(x), np.min(y))\n",
    "    (bottomx, bottomy) = (np.max(x), np.max(y))\n",
    "\n",
    "    #topx den bottomx e kadar al...\n",
    "    cropped = gray[topx:bottomx + 1, topy:bottomy + 1]\n",
    "\n",
    "    text = pytesseract.image_to_string(cropped, lang = \"eng\")\n",
    "\n",
    "    if len(text) > 6 and len(text) < 14:\n",
    "        print(\"Plaka: \", text)\n",
    "        break\n",
    "\n",
    "    cv2.imshow(\"WebCam\", goruntu)\n",
    "\n",
    "    if cv2.waitKey(10) & 0xFF == ord('q'):\n",
    "        break\n",
    "\n",
    "vid_cam.release()\n",
    "cv2.destroyAllWindows()"
   ]
  },
  {
   "cell_type": "code",
   "execution_count": null,
   "id": "9f947521",
   "metadata": {},
   "outputs": [],
   "source": []
  },
  {
   "cell_type": "code",
   "execution_count": null,
   "id": "89143fe1",
   "metadata": {},
   "outputs": [],
   "source": []
  }
 ],
 "metadata": {
  "kernelspec": {
   "display_name": "Python 3 (ipykernel)",
   "language": "python",
   "name": "python3"
  },
  "language_info": {
   "codemirror_mode": {
    "name": "ipython",
    "version": 3
   },
   "file_extension": ".py",
   "mimetype": "text/x-python",
   "name": "python",
   "nbconvert_exporter": "python",
   "pygments_lexer": "ipython3",
   "version": "3.9.15"
  },
  "vscode": {
   "interpreter": {
    "hash": "e1f4c07d607a6d87dd9a7b660f6b1ce9346722ac1ed5265c25ca2b85a483cdca"
   }
  }
 },
 "nbformat": 4,
 "nbformat_minor": 5
}
