{
 "cells": [
  {
   "cell_type": "code",
   "execution_count": 2,
   "id": "9e26e1c1",
   "metadata": {},
   "outputs": [
    {
     "name": "stdout",
     "output_type": "stream",
     "text": [
      "plaka:  300 SL 1957.\n",
      "\f",
      "\n"
     ]
    }
   ],
   "source": [
    "import cv2\n",
    "import numpy as np\n",
    "import pytesseract\n",
    "import imutils\n",
    "\n",
    "img = cv2.imread(\"licence_plate.jpg\")\n",
    "\n",
    "#Alınan görüntü griye çevriliyor\n",
    "gray = cv2.cvtColor(img, cv2.COLOR_BGR2GRAY)\n",
    "\n",
    "#Filtre ile gürültüler azaltılıyor.\n",
    "filt = cv2.bilateralFilter(gray, 6, 250, 250)\n",
    "\n",
    "#Kenarlar tespit ediliyor.\n",
    "kenar = cv2.Canny(filt, 30, 200)\n",
    "\n",
    "\n",
    "\"\"\"\n",
    "Şekil analizinde kullanmak için nokta birleşimi yapılıyor (aynı renk, yoğunluk vb. özelliklere sahip aralıksız noktalar)\n",
    "RETR_TREE -> mod değeri olarak da geçer (kontur alma modu)\n",
    "CHAIN_APPROX_SIMPLE -> Kontor yaklaşım metodu (basit yaklaşım sergiler) (Asıl görevi konturdaki gereksiz yerleri yok etmek)\n",
    "\"\"\"\n",
    "contours = cv2.findContours(kenar, cv2.RETR_TREE , cv2.CHAIN_APPROX_SIMPLE)\n",
    "\n",
    "#Uygun konturlar yakalanıyor.\n",
    "cnts = imutils.grab_contours(contours)\n",
    "\n",
    "cnts = sorted(cnts, key = cv2.contourArea, reverse = True)[:10]\n",
    "\n",
    "# Koordinatları tutacak\n",
    "screen = None\n",
    "\n",
    "\n",
    "for c in cnts:\n",
    "    # Doğruluk değeri verilen sayı ve yay uzunluğu çarpılarak elde edilir.\n",
    "    epsilon = 0.018 * cv2.arcLength(c, True)\n",
    "    # Konturlar yaklaştırılıyor.\n",
    "    yaklasim = cv2.approxPolyDP(c, epsilon, True)\n",
    "\n",
    "    # 4 köşe tespit edilirse (4 değer saklı haldeyse):\n",
    "    if len(yaklasim == 4):\n",
    "        screen = yaklasim\n",
    "        break\n",
    "\n",
    "\n",
    "\n",
    "mask = np.zeros(gray.shape, np.uint8)\n",
    "\n",
    "#Tespit edilen bölge harici beyaz yapılıp yeni bölge ayrıştırılacak\n",
    "\"\"\"\n",
    "Yapıştırılacak yer, koordinatlar, çizim modu, renk(beyaz), kalınlık\n",
    "\"\"\"\n",
    "new_img = cv2.drawContours(mask, [screen], 0, (255, 255, 255), -1)\n",
    "\n",
    "#Plaka alanına yazıyı yapıştırıyoruz.\n",
    "new_img = cv2.bitwise_and(img, img, mask = mask)\n",
    "\n",
    "#Beyaz olan yerlerin koordinatları kaydediliyor.\n",
    "(x, y) = np.where(mask == 255)\n",
    "\n",
    "(topx, topy) = (np.min(x), np.min(y))\n",
    "(bottomx, bottomy) = (np.max(x), np.max(y))\n",
    "\n",
    "#topx den bottomx e kadar al...\n",
    "cropped = gray[topx:bottomx + 1, topy:bottomy + 1]\n",
    "\n",
    "text = pytesseract.image_to_string(cropped, lang = \"eng\")\n",
    "\n",
    "print(\"plaka: \", text)\n",
    "\n",
    "\n",
    "\n",
    "cv2.waitKey(0)\n",
    "cv2.destroyAllWindows()"
   ]
  },
  {
   "cell_type": "code",
   "execution_count": null,
   "id": "43624c94",
   "metadata": {},
   "outputs": [],
   "source": []
  },
  {
   "cell_type": "code",
   "execution_count": null,
   "id": "517e6288",
   "metadata": {},
   "outputs": [],
   "source": []
  }
 ],
 "metadata": {
  "kernelspec": {
   "display_name": "Python 3 (ipykernel)",
   "language": "python",
   "name": "python3"
  },
  "language_info": {
   "codemirror_mode": {
    "name": "ipython",
    "version": 3
   },
   "file_extension": ".py",
   "mimetype": "text/x-python",
   "name": "python",
   "nbconvert_exporter": "python",
   "pygments_lexer": "ipython3",
   "version": "3.10.8"
  }
 },
 "nbformat": 4,
 "nbformat_minor": 5
}
